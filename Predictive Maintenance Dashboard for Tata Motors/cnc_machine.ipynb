{
 "cells": [
  {
   "cell_type": "code",
   "execution_count": 1,
   "id": "b559cf54-1f0b-444e-adcc-23d12f1bb5fb",
   "metadata": {},
   "outputs": [],
   "source": [
    "import pandas as pd \n",
    "import numpy as np"
   ]
  },
  {
   "cell_type": "code",
   "execution_count": 3,
   "id": "835a2f2c-0d9d-4a35-97e2-6b58dc8479ac",
   "metadata": {},
   "outputs": [],
   "source": [
    "cnc_df = pd.read_excel('CNC Learntube project 3.xlsx')"
   ]
  },
  {
   "cell_type": "code",
   "execution_count": 4,
   "id": "20204a95-b1db-420d-81e6-9f24a0316b75",
   "metadata": {},
   "outputs": [
    {
     "data": {
      "text/html": [
       "<div>\n",
       "<style scoped>\n",
       "    .dataframe tbody tr th:only-of-type {\n",
       "        vertical-align: middle;\n",
       "    }\n",
       "\n",
       "    .dataframe tbody tr th {\n",
       "        vertical-align: top;\n",
       "    }\n",
       "\n",
       "    .dataframe thead th {\n",
       "        text-align: right;\n",
       "    }\n",
       "</style>\n",
       "<table border=\"1\" class=\"dataframe\">\n",
       "  <thead>\n",
       "    <tr style=\"text-align: right;\">\n",
       "      <th></th>\n",
       "      <th>Machine_ID</th>\n",
       "      <th>Date</th>\n",
       "      <th>Spindle_Speed_RPM</th>\n",
       "      <th>Vibration_Level (mm/s)</th>\n",
       "      <th>Temperature (Â°C)</th>\n",
       "      <th>Operation_Hours</th>\n",
       "      <th>Machine_Status</th>\n",
       "      <th>Predicted_Failure</th>\n",
       "    </tr>\n",
       "  </thead>\n",
       "  <tbody>\n",
       "    <tr>\n",
       "      <th>0</th>\n",
       "      <td>CNC006</td>\n",
       "      <td>2024-09-02</td>\n",
       "      <td>4300</td>\n",
       "      <td>2.3</td>\n",
       "      <td>79</td>\n",
       "      <td>10</td>\n",
       "      <td>Running</td>\n",
       "      <td>No</td>\n",
       "    </tr>\n",
       "    <tr>\n",
       "      <th>1</th>\n",
       "      <td>CNC007</td>\n",
       "      <td>2024-09-02</td>\n",
       "      <td>3700</td>\n",
       "      <td>2.0</td>\n",
       "      <td>84</td>\n",
       "      <td>9</td>\n",
       "      <td>Running</td>\n",
       "      <td>Yes</td>\n",
       "    </tr>\n",
       "    <tr>\n",
       "      <th>2</th>\n",
       "      <td>CNC008</td>\n",
       "      <td>2024-09-02</td>\n",
       "      <td>4400</td>\n",
       "      <td>2.4</td>\n",
       "      <td>82</td>\n",
       "      <td>8</td>\n",
       "      <td>Running</td>\n",
       "      <td>No</td>\n",
       "    </tr>\n",
       "    <tr>\n",
       "      <th>3</th>\n",
       "      <td>CNC009</td>\n",
       "      <td>2024-09-02</td>\n",
       "      <td>4000</td>\n",
       "      <td>3.0</td>\n",
       "      <td>88</td>\n",
       "      <td>12</td>\n",
       "      <td>Running</td>\n",
       "      <td>Yes</td>\n",
       "    </tr>\n",
       "    <tr>\n",
       "      <th>4</th>\n",
       "      <td>CNC010</td>\n",
       "      <td>2024-09-02</td>\n",
       "      <td>4700</td>\n",
       "      <td>3.2</td>\n",
       "      <td>91</td>\n",
       "      <td>11</td>\n",
       "      <td>Running</td>\n",
       "      <td>Yes</td>\n",
       "    </tr>\n",
       "  </tbody>\n",
       "</table>\n",
       "</div>"
      ],
      "text/plain": [
       "  Machine_ID       Date  Spindle_Speed_RPM  Vibration_Level (mm/s)  \\\n",
       "0     CNC006 2024-09-02               4300                     2.3   \n",
       "1     CNC007 2024-09-02               3700                     2.0   \n",
       "2     CNC008 2024-09-02               4400                     2.4   \n",
       "3     CNC009 2024-09-02               4000                     3.0   \n",
       "4     CNC010 2024-09-02               4700                     3.2   \n",
       "\n",
       "   Temperature (Â°C)  Operation_Hours Machine_Status Predicted_Failure  \n",
       "0                 79               10        Running                No  \n",
       "1                 84                9        Running               Yes  \n",
       "2                 82                8        Running                No  \n",
       "3                 88               12        Running               Yes  \n",
       "4                 91               11        Running               Yes  "
      ]
     },
     "execution_count": 4,
     "metadata": {},
     "output_type": "execute_result"
    }
   ],
   "source": [
    "cnc_df.head()"
   ]
  },
  {
   "cell_type": "code",
   "execution_count": 7,
   "id": "59816a7e-b01e-45f0-8e77-b9b55b9177fb",
   "metadata": {},
   "outputs": [
    {
     "data": {
      "text/plain": [
       "(35, 8)"
      ]
     },
     "execution_count": 7,
     "metadata": {},
     "output_type": "execute_result"
    }
   ],
   "source": [
    "cnc_df.shape"
   ]
  },
  {
   "cell_type": "code",
   "execution_count": 8,
   "id": "f7f80445-0198-4f82-9958-1cae58cedc50",
   "metadata": {},
   "outputs": [
    {
     "name": "stdout",
     "output_type": "stream",
     "text": [
      "<class 'pandas.core.frame.DataFrame'>\n",
      "RangeIndex: 35 entries, 0 to 34\n",
      "Data columns (total 8 columns):\n",
      " #   Column                  Non-Null Count  Dtype         \n",
      "---  ------                  --------------  -----         \n",
      " 0   Machine_ID              35 non-null     object        \n",
      " 1   Date                    35 non-null     datetime64[ns]\n",
      " 2   Spindle_Speed_RPM       35 non-null     int64         \n",
      " 3   Vibration_Level (mm/s)  35 non-null     float64       \n",
      " 4   Temperature (Â°C)       35 non-null     int64         \n",
      " 5   Operation_Hours         35 non-null     int64         \n",
      " 6   Machine_Status          35 non-null     object        \n",
      " 7   Predicted_Failure       35 non-null     object        \n",
      "dtypes: datetime64[ns](1), float64(1), int64(3), object(3)\n",
      "memory usage: 2.3+ KB\n"
     ]
    }
   ],
   "source": [
    "cnc_df.info()"
   ]
  },
  {
   "cell_type": "code",
   "execution_count": 11,
   "id": "ea752ab1-6a54-44d1-89ad-120d6d4bd11b",
   "metadata": {},
   "outputs": [
    {
     "data": {
      "text/plain": [
       "<bound method DataFrame.sum of     Machine_ID   Date  Spindle_Speed_RPM  Vibration_Level (mm/s)  \\\n",
       "0        False  False              False                   False   \n",
       "1        False  False              False                   False   \n",
       "2        False  False              False                   False   \n",
       "3        False  False              False                   False   \n",
       "4        False  False              False                   False   \n",
       "5        False  False              False                   False   \n",
       "6        False  False              False                   False   \n",
       "7        False  False              False                   False   \n",
       "8        False  False              False                   False   \n",
       "9        False  False              False                   False   \n",
       "10       False  False              False                   False   \n",
       "11       False  False              False                   False   \n",
       "12       False  False              False                   False   \n",
       "13       False  False              False                   False   \n",
       "14       False  False              False                   False   \n",
       "15       False  False              False                   False   \n",
       "16       False  False              False                   False   \n",
       "17       False  False              False                   False   \n",
       "18       False  False              False                   False   \n",
       "19       False  False              False                   False   \n",
       "20       False  False              False                   False   \n",
       "21       False  False              False                   False   \n",
       "22       False  False              False                   False   \n",
       "23       False  False              False                   False   \n",
       "24       False  False              False                   False   \n",
       "25       False  False              False                   False   \n",
       "26       False  False              False                   False   \n",
       "27       False  False              False                   False   \n",
       "28       False  False              False                   False   \n",
       "29       False  False              False                   False   \n",
       "30       False  False              False                   False   \n",
       "31       False  False              False                   False   \n",
       "32       False  False              False                   False   \n",
       "33       False  False              False                   False   \n",
       "34       False  False              False                   False   \n",
       "\n",
       "    Temperature (Â°C)  Operation_Hours  Machine_Status  Predicted_Failure  \n",
       "0               False            False           False              False  \n",
       "1               False            False           False              False  \n",
       "2               False            False           False              False  \n",
       "3               False            False           False              False  \n",
       "4               False            False           False              False  \n",
       "5               False            False           False              False  \n",
       "6               False            False           False              False  \n",
       "7               False            False           False              False  \n",
       "8               False            False           False              False  \n",
       "9               False            False           False              False  \n",
       "10              False            False           False              False  \n",
       "11              False            False           False              False  \n",
       "12              False            False           False              False  \n",
       "13              False            False           False              False  \n",
       "14              False            False           False              False  \n",
       "15              False            False           False              False  \n",
       "16              False            False           False              False  \n",
       "17              False            False           False              False  \n",
       "18              False            False           False              False  \n",
       "19              False            False           False              False  \n",
       "20              False            False           False              False  \n",
       "21              False            False           False              False  \n",
       "22              False            False           False              False  \n",
       "23              False            False           False              False  \n",
       "24              False            False           False              False  \n",
       "25              False            False           False              False  \n",
       "26              False            False           False              False  \n",
       "27              False            False           False              False  \n",
       "28              False            False           False              False  \n",
       "29              False            False           False              False  \n",
       "30              False            False           False              False  \n",
       "31              False            False           False              False  \n",
       "32              False            False           False              False  \n",
       "33              False            False           False              False  \n",
       "34              False            False           False              False  >"
      ]
     },
     "execution_count": 11,
     "metadata": {},
     "output_type": "execute_result"
    }
   ],
   "source": [
    "cnc_df.isnull().sum"
   ]
  },
  {
   "cell_type": "code",
   "execution_count": 12,
   "id": "98a38ae0-8cd4-47d3-86f2-7b3a0b0513c4",
   "metadata": {},
   "outputs": [],
   "source": [
    "cnc_fail = pd.read_csv('Machine failures.csv')"
   ]
  },
  {
   "cell_type": "code",
   "execution_count": 13,
   "id": "62dbcd6c-f1fa-4984-884d-1d168246063d",
   "metadata": {},
   "outputs": [
    {
     "data": {
      "text/html": [
       "<div>\n",
       "<style scoped>\n",
       "    .dataframe tbody tr th:only-of-type {\n",
       "        vertical-align: middle;\n",
       "    }\n",
       "\n",
       "    .dataframe tbody tr th {\n",
       "        vertical-align: top;\n",
       "    }\n",
       "\n",
       "    .dataframe thead th {\n",
       "        text-align: right;\n",
       "    }\n",
       "</style>\n",
       "<table border=\"1\" class=\"dataframe\">\n",
       "  <thead>\n",
       "    <tr style=\"text-align: right;\">\n",
       "      <th></th>\n",
       "      <th>Machine_ID</th>\n",
       "      <th>Failure_Date</th>\n",
       "      <th>Failure_Type</th>\n",
       "      <th>Downtime_Hours</th>\n",
       "      <th>Repair_Time (hours)</th>\n",
       "      <th>Issue_Resolved_By</th>\n",
       "      <th>Comments</th>\n",
       "    </tr>\n",
       "  </thead>\n",
       "  <tbody>\n",
       "    <tr>\n",
       "      <th>0</th>\n",
       "      <td>CNC006</td>\n",
       "      <td>18-08-2024</td>\n",
       "      <td>Motor Failure</td>\n",
       "      <td>6</td>\n",
       "      <td>4</td>\n",
       "      <td>Technician F</td>\n",
       "      <td>Replaced motor</td>\n",
       "    </tr>\n",
       "    <tr>\n",
       "      <th>1</th>\n",
       "      <td>CNC007</td>\n",
       "      <td>22-08-2024</td>\n",
       "      <td>Overheating</td>\n",
       "      <td>4</td>\n",
       "      <td>3</td>\n",
       "      <td>Technician G</td>\n",
       "      <td>Adjusted cooling system</td>\n",
       "    </tr>\n",
       "    <tr>\n",
       "      <th>2</th>\n",
       "      <td>CNC008</td>\n",
       "      <td>12-08-2024</td>\n",
       "      <td>Vibration Issue</td>\n",
       "      <td>5</td>\n",
       "      <td>2</td>\n",
       "      <td>Technician H</td>\n",
       "      <td>Tightened bearings</td>\n",
       "    </tr>\n",
       "    <tr>\n",
       "      <th>3</th>\n",
       "      <td>CNC009</td>\n",
       "      <td>30-07-2024</td>\n",
       "      <td>Electrical Failure</td>\n",
       "      <td>7</td>\n",
       "      <td>5</td>\n",
       "      <td>Technician I</td>\n",
       "      <td>Rewired machine</td>\n",
       "    </tr>\n",
       "    <tr>\n",
       "      <th>4</th>\n",
       "      <td>CNC010</td>\n",
       "      <td>04-08-2024</td>\n",
       "      <td>Spindle Breakdown</td>\n",
       "      <td>8</td>\n",
       "      <td>6</td>\n",
       "      <td>Technician J</td>\n",
       "      <td>Replaced spindle motor</td>\n",
       "    </tr>\n",
       "  </tbody>\n",
       "</table>\n",
       "</div>"
      ],
      "text/plain": [
       "  Machine_ID Failure_Date        Failure_Type  Downtime_Hours  \\\n",
       "0     CNC006   18-08-2024       Motor Failure               6   \n",
       "1     CNC007   22-08-2024         Overheating               4   \n",
       "2     CNC008   12-08-2024     Vibration Issue               5   \n",
       "3     CNC009   30-07-2024  Electrical Failure               7   \n",
       "4     CNC010   04-08-2024   Spindle Breakdown               8   \n",
       "\n",
       "   Repair_Time (hours) Issue_Resolved_By                 Comments  \n",
       "0                    4      Technician F           Replaced motor  \n",
       "1                    3      Technician G  Adjusted cooling system  \n",
       "2                    2      Technician H       Tightened bearings  \n",
       "3                    5      Technician I          Rewired machine  \n",
       "4                    6      Technician J   Replaced spindle motor  "
      ]
     },
     "execution_count": 13,
     "metadata": {},
     "output_type": "execute_result"
    }
   ],
   "source": [
    "cnc_fail.head()"
   ]
  },
  {
   "cell_type": "code",
   "execution_count": 14,
   "id": "c26264e4-89c0-4f36-b253-87d17132a1bd",
   "metadata": {},
   "outputs": [],
   "source": [
    "cnc_sched =  pd.read_csv('machine_schedule.csv')"
   ]
  },
  {
   "cell_type": "code",
   "execution_count": 15,
   "id": "fee2bc74-4b50-42a3-945b-33fd7a842ee2",
   "metadata": {},
   "outputs": [],
   "source": [
    "cnc_use =  pd.read_csv('Machine_usage.csv')"
   ]
  },
  {
   "cell_type": "code",
   "execution_count": 16,
   "id": "f7a4d31c-e1c6-4b88-a173-d98fa7a8297e",
   "metadata": {},
   "outputs": [
    {
     "data": {
      "text/html": [
       "<div>\n",
       "<style scoped>\n",
       "    .dataframe tbody tr th:only-of-type {\n",
       "        vertical-align: middle;\n",
       "    }\n",
       "\n",
       "    .dataframe tbody tr th {\n",
       "        vertical-align: top;\n",
       "    }\n",
       "\n",
       "    .dataframe thead th {\n",
       "        text-align: right;\n",
       "    }\n",
       "</style>\n",
       "<table border=\"1\" class=\"dataframe\">\n",
       "  <thead>\n",
       "    <tr style=\"text-align: right;\">\n",
       "      <th></th>\n",
       "      <th>Machine_ID</th>\n",
       "      <th>Last_Maintenance_Date</th>\n",
       "      <th>Next_Scheduled_Maintenance</th>\n",
       "      <th>Maintenance_Type</th>\n",
       "      <th>Technician_Name</th>\n",
       "      <th>Maintenance_Comments</th>\n",
       "    </tr>\n",
       "  </thead>\n",
       "  <tbody>\n",
       "    <tr>\n",
       "      <th>0</th>\n",
       "      <td>CNC006</td>\n",
       "      <td>02-08-2024</td>\n",
       "      <td>16-09-2024</td>\n",
       "      <td>Routine Inspection</td>\n",
       "      <td>Technician F</td>\n",
       "      <td>Routine oiling, checked bearings</td>\n",
       "    </tr>\n",
       "    <tr>\n",
       "      <th>1</th>\n",
       "      <td>CNC007</td>\n",
       "      <td>03-08-2024</td>\n",
       "      <td>17-09-2024</td>\n",
       "      <td>Vibration Control</td>\n",
       "      <td>Technician G</td>\n",
       "      <td>Adjusted vibration damping</td>\n",
       "    </tr>\n",
       "    <tr>\n",
       "      <th>2</th>\n",
       "      <td>CNC008</td>\n",
       "      <td>12-08-2024</td>\n",
       "      <td>22-09-2024</td>\n",
       "      <td>Temperature Check</td>\n",
       "      <td>Technician H</td>\n",
       "      <td>Inspected cooling system</td>\n",
       "    </tr>\n",
       "    <tr>\n",
       "      <th>3</th>\n",
       "      <td>CNC009</td>\n",
       "      <td>06-08-2024</td>\n",
       "      <td>19-09-2024</td>\n",
       "      <td>Electrical System</td>\n",
       "      <td>Technician I</td>\n",
       "      <td>Checked electrical components</td>\n",
       "    </tr>\n",
       "    <tr>\n",
       "      <th>4</th>\n",
       "      <td>CNC010</td>\n",
       "      <td>14-08-2024</td>\n",
       "      <td>23-09-2024</td>\n",
       "      <td>Spindle Inspection</td>\n",
       "      <td>Technician J</td>\n",
       "      <td>Checked spindle alignment</td>\n",
       "    </tr>\n",
       "  </tbody>\n",
       "</table>\n",
       "</div>"
      ],
      "text/plain": [
       "  Machine_ID Last_Maintenance_Date Next_Scheduled_Maintenance  \\\n",
       "0     CNC006            02-08-2024                 16-09-2024   \n",
       "1     CNC007            03-08-2024                 17-09-2024   \n",
       "2     CNC008            12-08-2024                 22-09-2024   \n",
       "3     CNC009            06-08-2024                 19-09-2024   \n",
       "4     CNC010            14-08-2024                 23-09-2024   \n",
       "\n",
       "     Maintenance_Type Technician_Name              Maintenance_Comments  \n",
       "0  Routine Inspection    Technician F  Routine oiling, checked bearings  \n",
       "1   Vibration Control    Technician G        Adjusted vibration damping  \n",
       "2   Temperature Check    Technician H          Inspected cooling system  \n",
       "3   Electrical System    Technician I     Checked electrical components  \n",
       "4  Spindle Inspection    Technician J         Checked spindle alignment  "
      ]
     },
     "execution_count": 16,
     "metadata": {},
     "output_type": "execute_result"
    }
   ],
   "source": [
    "cnc_sched.head()"
   ]
  },
  {
   "cell_type": "code",
   "execution_count": 17,
   "id": "3157526d-a5c7-42b3-b3c9-0f5578ca4e78",
   "metadata": {},
   "outputs": [
    {
     "data": {
      "text/html": [
       "<div>\n",
       "<style scoped>\n",
       "    .dataframe tbody tr th:only-of-type {\n",
       "        vertical-align: middle;\n",
       "    }\n",
       "\n",
       "    .dataframe tbody tr th {\n",
       "        vertical-align: top;\n",
       "    }\n",
       "\n",
       "    .dataframe thead th {\n",
       "        text-align: right;\n",
       "    }\n",
       "</style>\n",
       "<table border=\"1\" class=\"dataframe\">\n",
       "  <thead>\n",
       "    <tr style=\"text-align: right;\">\n",
       "      <th></th>\n",
       "      <th>Machine_ID</th>\n",
       "      <th>Date</th>\n",
       "      <th>Parts_Produced</th>\n",
       "      <th>Production_Quality</th>\n",
       "      <th>Rejection_Rate (%)</th>\n",
       "      <th>Idle_Time (hours)</th>\n",
       "      <th>Operator_Name</th>\n",
       "    </tr>\n",
       "  </thead>\n",
       "  <tbody>\n",
       "    <tr>\n",
       "      <th>0</th>\n",
       "      <td>CNC006</td>\n",
       "      <td>02-09-2024</td>\n",
       "      <td>152</td>\n",
       "      <td>High</td>\n",
       "      <td>1.2</td>\n",
       "      <td>0.3</td>\n",
       "      <td>Operator F</td>\n",
       "    </tr>\n",
       "    <tr>\n",
       "      <th>1</th>\n",
       "      <td>CNC007</td>\n",
       "      <td>02-09-2024</td>\n",
       "      <td>138</td>\n",
       "      <td>Medium</td>\n",
       "      <td>2.9</td>\n",
       "      <td>1.1</td>\n",
       "      <td>Operator G</td>\n",
       "    </tr>\n",
       "    <tr>\n",
       "      <th>2</th>\n",
       "      <td>CNC008</td>\n",
       "      <td>02-09-2024</td>\n",
       "      <td>165</td>\n",
       "      <td>High</td>\n",
       "      <td>1.7</td>\n",
       "      <td>0.4</td>\n",
       "      <td>Operator H</td>\n",
       "    </tr>\n",
       "    <tr>\n",
       "      <th>3</th>\n",
       "      <td>CNC009</td>\n",
       "      <td>02-09-2024</td>\n",
       "      <td>142</td>\n",
       "      <td>Low</td>\n",
       "      <td>4.2</td>\n",
       "      <td>1.3</td>\n",
       "      <td>Operator I</td>\n",
       "    </tr>\n",
       "    <tr>\n",
       "      <th>4</th>\n",
       "      <td>CNC010</td>\n",
       "      <td>02-09-2024</td>\n",
       "      <td>158</td>\n",
       "      <td>High</td>\n",
       "      <td>1.6</td>\n",
       "      <td>0.5</td>\n",
       "      <td>Operator J</td>\n",
       "    </tr>\n",
       "  </tbody>\n",
       "</table>\n",
       "</div>"
      ],
      "text/plain": [
       "  Machine_ID        Date  Parts_Produced Production_Quality  \\\n",
       "0     CNC006  02-09-2024             152               High   \n",
       "1     CNC007  02-09-2024             138             Medium   \n",
       "2     CNC008  02-09-2024             165               High   \n",
       "3     CNC009  02-09-2024             142                Low   \n",
       "4     CNC010  02-09-2024             158               High   \n",
       "\n",
       "   Rejection_Rate (%)  Idle_Time (hours) Operator_Name  \n",
       "0                 1.2                0.3    Operator F  \n",
       "1                 2.9                1.1    Operator G  \n",
       "2                 1.7                0.4    Operator H  \n",
       "3                 4.2                1.3    Operator I  \n",
       "4                 1.6                0.5    Operator J  "
      ]
     },
     "execution_count": 17,
     "metadata": {},
     "output_type": "execute_result"
    }
   ],
   "source": [
    "cnc_use.head()"
   ]
  },
  {
   "cell_type": "code",
   "execution_count": 18,
   "id": "c9e00c9e-5338-4620-ae68-48c30c4b5155",
   "metadata": {},
   "outputs": [
    {
     "data": {
      "text/html": [
       "<div>\n",
       "<style scoped>\n",
       "    .dataframe tbody tr th:only-of-type {\n",
       "        vertical-align: middle;\n",
       "    }\n",
       "\n",
       "    .dataframe tbody tr th {\n",
       "        vertical-align: top;\n",
       "    }\n",
       "\n",
       "    .dataframe thead th {\n",
       "        text-align: right;\n",
       "    }\n",
       "</style>\n",
       "<table border=\"1\" class=\"dataframe\">\n",
       "  <thead>\n",
       "    <tr style=\"text-align: right;\">\n",
       "      <th></th>\n",
       "      <th>Machine_ID</th>\n",
       "      <th>Date</th>\n",
       "      <th>Spindle_Speed_RPM</th>\n",
       "      <th>Vibration_Level (mm/s)</th>\n",
       "      <th>Temperature (Â°C)</th>\n",
       "      <th>Operation_Hours</th>\n",
       "      <th>Machine_Status</th>\n",
       "      <th>Predicted_Failure</th>\n",
       "    </tr>\n",
       "  </thead>\n",
       "  <tbody>\n",
       "    <tr>\n",
       "      <th>0</th>\n",
       "      <td>CNC006</td>\n",
       "      <td>2024-09-02</td>\n",
       "      <td>4300</td>\n",
       "      <td>2.3</td>\n",
       "      <td>79</td>\n",
       "      <td>10</td>\n",
       "      <td>Running</td>\n",
       "      <td>No</td>\n",
       "    </tr>\n",
       "    <tr>\n",
       "      <th>1</th>\n",
       "      <td>CNC007</td>\n",
       "      <td>2024-09-02</td>\n",
       "      <td>3700</td>\n",
       "      <td>2.0</td>\n",
       "      <td>84</td>\n",
       "      <td>9</td>\n",
       "      <td>Running</td>\n",
       "      <td>Yes</td>\n",
       "    </tr>\n",
       "    <tr>\n",
       "      <th>2</th>\n",
       "      <td>CNC008</td>\n",
       "      <td>2024-09-02</td>\n",
       "      <td>4400</td>\n",
       "      <td>2.4</td>\n",
       "      <td>82</td>\n",
       "      <td>8</td>\n",
       "      <td>Running</td>\n",
       "      <td>No</td>\n",
       "    </tr>\n",
       "    <tr>\n",
       "      <th>3</th>\n",
       "      <td>CNC009</td>\n",
       "      <td>2024-09-02</td>\n",
       "      <td>4000</td>\n",
       "      <td>3.0</td>\n",
       "      <td>88</td>\n",
       "      <td>12</td>\n",
       "      <td>Running</td>\n",
       "      <td>Yes</td>\n",
       "    </tr>\n",
       "    <tr>\n",
       "      <th>4</th>\n",
       "      <td>CNC010</td>\n",
       "      <td>2024-09-02</td>\n",
       "      <td>4700</td>\n",
       "      <td>3.2</td>\n",
       "      <td>91</td>\n",
       "      <td>11</td>\n",
       "      <td>Running</td>\n",
       "      <td>Yes</td>\n",
       "    </tr>\n",
       "  </tbody>\n",
       "</table>\n",
       "</div>"
      ],
      "text/plain": [
       "  Machine_ID       Date  Spindle_Speed_RPM  Vibration_Level (mm/s)  \\\n",
       "0     CNC006 2024-09-02               4300                     2.3   \n",
       "1     CNC007 2024-09-02               3700                     2.0   \n",
       "2     CNC008 2024-09-02               4400                     2.4   \n",
       "3     CNC009 2024-09-02               4000                     3.0   \n",
       "4     CNC010 2024-09-02               4700                     3.2   \n",
       "\n",
       "   Temperature (Â°C)  Operation_Hours Machine_Status Predicted_Failure  \n",
       "0                 79               10        Running                No  \n",
       "1                 84                9        Running               Yes  \n",
       "2                 82                8        Running                No  \n",
       "3                 88               12        Running               Yes  \n",
       "4                 91               11        Running               Yes  "
      ]
     },
     "execution_count": 18,
     "metadata": {},
     "output_type": "execute_result"
    }
   ],
   "source": [
    "cnc_df.head()"
   ]
  },
  {
   "cell_type": "code",
   "execution_count": 20,
   "id": "4270c473-f576-4672-8411-a02bb804ab9e",
   "metadata": {},
   "outputs": [],
   "source": [
    "new_cnc = cnc_df[['Machine_ID', 'Spindle_Speed_RPM' , 'Vibration_Level (mm/s)', 'Temperature (Â°C)', 'Operation_Hours', 'Machine_Status', 'Predicted_Failure' ]]"
   ]
  },
  {
   "cell_type": "code",
   "execution_count": 22,
   "id": "0bb68897-ec1d-42a9-a92d-aaa124dabbc8",
   "metadata": {},
   "outputs": [
    {
     "data": {
      "text/html": [
       "<div>\n",
       "<style scoped>\n",
       "    .dataframe tbody tr th:only-of-type {\n",
       "        vertical-align: middle;\n",
       "    }\n",
       "\n",
       "    .dataframe tbody tr th {\n",
       "        vertical-align: top;\n",
       "    }\n",
       "\n",
       "    .dataframe thead th {\n",
       "        text-align: right;\n",
       "    }\n",
       "</style>\n",
       "<table border=\"1\" class=\"dataframe\">\n",
       "  <thead>\n",
       "    <tr style=\"text-align: right;\">\n",
       "      <th></th>\n",
       "      <th>Machine_ID</th>\n",
       "      <th>Spindle_Speed_RPM</th>\n",
       "      <th>Vibration_Level (mm/s)</th>\n",
       "      <th>Temperature (Â°C)</th>\n",
       "      <th>Operation_Hours</th>\n",
       "      <th>Machine_Status</th>\n",
       "      <th>Predicted_Failure</th>\n",
       "    </tr>\n",
       "  </thead>\n",
       "  <tbody>\n",
       "    <tr>\n",
       "      <th>0</th>\n",
       "      <td>CNC006</td>\n",
       "      <td>4300</td>\n",
       "      <td>2.3</td>\n",
       "      <td>79</td>\n",
       "      <td>10</td>\n",
       "      <td>Running</td>\n",
       "      <td>No</td>\n",
       "    </tr>\n",
       "    <tr>\n",
       "      <th>1</th>\n",
       "      <td>CNC007</td>\n",
       "      <td>3700</td>\n",
       "      <td>2.0</td>\n",
       "      <td>84</td>\n",
       "      <td>9</td>\n",
       "      <td>Running</td>\n",
       "      <td>Yes</td>\n",
       "    </tr>\n",
       "    <tr>\n",
       "      <th>2</th>\n",
       "      <td>CNC008</td>\n",
       "      <td>4400</td>\n",
       "      <td>2.4</td>\n",
       "      <td>82</td>\n",
       "      <td>8</td>\n",
       "      <td>Running</td>\n",
       "      <td>No</td>\n",
       "    </tr>\n",
       "    <tr>\n",
       "      <th>3</th>\n",
       "      <td>CNC009</td>\n",
       "      <td>4000</td>\n",
       "      <td>3.0</td>\n",
       "      <td>88</td>\n",
       "      <td>12</td>\n",
       "      <td>Running</td>\n",
       "      <td>Yes</td>\n",
       "    </tr>\n",
       "    <tr>\n",
       "      <th>4</th>\n",
       "      <td>CNC010</td>\n",
       "      <td>4700</td>\n",
       "      <td>3.2</td>\n",
       "      <td>91</td>\n",
       "      <td>11</td>\n",
       "      <td>Running</td>\n",
       "      <td>Yes</td>\n",
       "    </tr>\n",
       "  </tbody>\n",
       "</table>\n",
       "</div>"
      ],
      "text/plain": [
       "  Machine_ID  Spindle_Speed_RPM  Vibration_Level (mm/s)  Temperature (Â°C)  \\\n",
       "0     CNC006               4300                     2.3                 79   \n",
       "1     CNC007               3700                     2.0                 84   \n",
       "2     CNC008               4400                     2.4                 82   \n",
       "3     CNC009               4000                     3.0                 88   \n",
       "4     CNC010               4700                     3.2                 91   \n",
       "\n",
       "   Operation_Hours Machine_Status Predicted_Failure  \n",
       "0               10        Running                No  \n",
       "1                9        Running               Yes  \n",
       "2                8        Running                No  \n",
       "3               12        Running               Yes  \n",
       "4               11        Running               Yes  "
      ]
     },
     "execution_count": 22,
     "metadata": {},
     "output_type": "execute_result"
    }
   ],
   "source": [
    "new_cnc.head()"
   ]
  },
  {
   "cell_type": "code",
   "execution_count": 23,
   "id": "d08a22b6-0efb-48d5-9127-32ee57bb73e7",
   "metadata": {},
   "outputs": [],
   "source": [
    "new_fail = cnc_fail[['Machine_ID' , 'Failure_Type', 'Downtime_Hours', 'Repair_Time (hours)']]"
   ]
  },
  {
   "cell_type": "code",
   "execution_count": 24,
   "id": "f11f5c27-3f6c-497b-8f5a-15ebf14c8a3a",
   "metadata": {},
   "outputs": [
    {
     "data": {
      "text/html": [
       "<div>\n",
       "<style scoped>\n",
       "    .dataframe tbody tr th:only-of-type {\n",
       "        vertical-align: middle;\n",
       "    }\n",
       "\n",
       "    .dataframe tbody tr th {\n",
       "        vertical-align: top;\n",
       "    }\n",
       "\n",
       "    .dataframe thead th {\n",
       "        text-align: right;\n",
       "    }\n",
       "</style>\n",
       "<table border=\"1\" class=\"dataframe\">\n",
       "  <thead>\n",
       "    <tr style=\"text-align: right;\">\n",
       "      <th></th>\n",
       "      <th>Machine_ID</th>\n",
       "      <th>Failure_Type</th>\n",
       "      <th>Downtime_Hours</th>\n",
       "      <th>Repair_Time (hours)</th>\n",
       "    </tr>\n",
       "  </thead>\n",
       "  <tbody>\n",
       "    <tr>\n",
       "      <th>0</th>\n",
       "      <td>CNC006</td>\n",
       "      <td>Motor Failure</td>\n",
       "      <td>6</td>\n",
       "      <td>4</td>\n",
       "    </tr>\n",
       "    <tr>\n",
       "      <th>1</th>\n",
       "      <td>CNC007</td>\n",
       "      <td>Overheating</td>\n",
       "      <td>4</td>\n",
       "      <td>3</td>\n",
       "    </tr>\n",
       "    <tr>\n",
       "      <th>2</th>\n",
       "      <td>CNC008</td>\n",
       "      <td>Vibration Issue</td>\n",
       "      <td>5</td>\n",
       "      <td>2</td>\n",
       "    </tr>\n",
       "    <tr>\n",
       "      <th>3</th>\n",
       "      <td>CNC009</td>\n",
       "      <td>Electrical Failure</td>\n",
       "      <td>7</td>\n",
       "      <td>5</td>\n",
       "    </tr>\n",
       "    <tr>\n",
       "      <th>4</th>\n",
       "      <td>CNC010</td>\n",
       "      <td>Spindle Breakdown</td>\n",
       "      <td>8</td>\n",
       "      <td>6</td>\n",
       "    </tr>\n",
       "  </tbody>\n",
       "</table>\n",
       "</div>"
      ],
      "text/plain": [
       "  Machine_ID        Failure_Type  Downtime_Hours  Repair_Time (hours)\n",
       "0     CNC006       Motor Failure               6                    4\n",
       "1     CNC007         Overheating               4                    3\n",
       "2     CNC008     Vibration Issue               5                    2\n",
       "3     CNC009  Electrical Failure               7                    5\n",
       "4     CNC010   Spindle Breakdown               8                    6"
      ]
     },
     "execution_count": 24,
     "metadata": {},
     "output_type": "execute_result"
    }
   ],
   "source": [
    "new_fail.head()"
   ]
  },
  {
   "cell_type": "code",
   "execution_count": 27,
   "id": "b4f6ff52-81e4-418f-ac35-aba60ae08ff0",
   "metadata": {},
   "outputs": [],
   "source": [
    "new_sched = cnc_sched[[\t'Machine_ID', 'Maintenance_Type']]"
   ]
  },
  {
   "cell_type": "code",
   "execution_count": 28,
   "id": "5a7f66d6-ab9a-4eac-8f01-8146ba7f0970",
   "metadata": {},
   "outputs": [
    {
     "data": {
      "text/html": [
       "<div>\n",
       "<style scoped>\n",
       "    .dataframe tbody tr th:only-of-type {\n",
       "        vertical-align: middle;\n",
       "    }\n",
       "\n",
       "    .dataframe tbody tr th {\n",
       "        vertical-align: top;\n",
       "    }\n",
       "\n",
       "    .dataframe thead th {\n",
       "        text-align: right;\n",
       "    }\n",
       "</style>\n",
       "<table border=\"1\" class=\"dataframe\">\n",
       "  <thead>\n",
       "    <tr style=\"text-align: right;\">\n",
       "      <th></th>\n",
       "      <th>Machine_ID</th>\n",
       "      <th>Maintenance_Type</th>\n",
       "    </tr>\n",
       "  </thead>\n",
       "  <tbody>\n",
       "    <tr>\n",
       "      <th>0</th>\n",
       "      <td>CNC006</td>\n",
       "      <td>Routine Inspection</td>\n",
       "    </tr>\n",
       "    <tr>\n",
       "      <th>1</th>\n",
       "      <td>CNC007</td>\n",
       "      <td>Vibration Control</td>\n",
       "    </tr>\n",
       "    <tr>\n",
       "      <th>2</th>\n",
       "      <td>CNC008</td>\n",
       "      <td>Temperature Check</td>\n",
       "    </tr>\n",
       "    <tr>\n",
       "      <th>3</th>\n",
       "      <td>CNC009</td>\n",
       "      <td>Electrical System</td>\n",
       "    </tr>\n",
       "    <tr>\n",
       "      <th>4</th>\n",
       "      <td>CNC010</td>\n",
       "      <td>Spindle Inspection</td>\n",
       "    </tr>\n",
       "  </tbody>\n",
       "</table>\n",
       "</div>"
      ],
      "text/plain": [
       "  Machine_ID    Maintenance_Type\n",
       "0     CNC006  Routine Inspection\n",
       "1     CNC007   Vibration Control\n",
       "2     CNC008   Temperature Check\n",
       "3     CNC009   Electrical System\n",
       "4     CNC010  Spindle Inspection"
      ]
     },
     "execution_count": 28,
     "metadata": {},
     "output_type": "execute_result"
    }
   ],
   "source": [
    "new_sched.head()"
   ]
  },
  {
   "cell_type": "code",
   "execution_count": 29,
   "id": "c8140e60-0378-43cb-ab17-5fab63110c33",
   "metadata": {},
   "outputs": [],
   "source": [
    "new_use = cnc_use[['Machine_ID', 'Parts_Produced', 'Production_Quality', 'Rejection_Rate (%)']]"
   ]
  },
  {
   "cell_type": "code",
   "execution_count": 31,
   "id": "25e37fad-405d-45d6-a271-784bfee2de4e",
   "metadata": {},
   "outputs": [
    {
     "data": {
      "text/html": [
       "<div>\n",
       "<style scoped>\n",
       "    .dataframe tbody tr th:only-of-type {\n",
       "        vertical-align: middle;\n",
       "    }\n",
       "\n",
       "    .dataframe tbody tr th {\n",
       "        vertical-align: top;\n",
       "    }\n",
       "\n",
       "    .dataframe thead th {\n",
       "        text-align: right;\n",
       "    }\n",
       "</style>\n",
       "<table border=\"1\" class=\"dataframe\">\n",
       "  <thead>\n",
       "    <tr style=\"text-align: right;\">\n",
       "      <th></th>\n",
       "      <th>Machine_ID</th>\n",
       "      <th>Parts_Produced</th>\n",
       "      <th>Production_Quality</th>\n",
       "      <th>Rejection_Rate (%)</th>\n",
       "    </tr>\n",
       "  </thead>\n",
       "  <tbody>\n",
       "    <tr>\n",
       "      <th>0</th>\n",
       "      <td>CNC006</td>\n",
       "      <td>152</td>\n",
       "      <td>High</td>\n",
       "      <td>1.2</td>\n",
       "    </tr>\n",
       "    <tr>\n",
       "      <th>1</th>\n",
       "      <td>CNC007</td>\n",
       "      <td>138</td>\n",
       "      <td>Medium</td>\n",
       "      <td>2.9</td>\n",
       "    </tr>\n",
       "    <tr>\n",
       "      <th>2</th>\n",
       "      <td>CNC008</td>\n",
       "      <td>165</td>\n",
       "      <td>High</td>\n",
       "      <td>1.7</td>\n",
       "    </tr>\n",
       "    <tr>\n",
       "      <th>3</th>\n",
       "      <td>CNC009</td>\n",
       "      <td>142</td>\n",
       "      <td>Low</td>\n",
       "      <td>4.2</td>\n",
       "    </tr>\n",
       "    <tr>\n",
       "      <th>4</th>\n",
       "      <td>CNC010</td>\n",
       "      <td>158</td>\n",
       "      <td>High</td>\n",
       "      <td>1.6</td>\n",
       "    </tr>\n",
       "  </tbody>\n",
       "</table>\n",
       "</div>"
      ],
      "text/plain": [
       "  Machine_ID  Parts_Produced Production_Quality  Rejection_Rate (%)\n",
       "0     CNC006             152               High                 1.2\n",
       "1     CNC007             138             Medium                 2.9\n",
       "2     CNC008             165               High                 1.7\n",
       "3     CNC009             142                Low                 4.2\n",
       "4     CNC010             158               High                 1.6"
      ]
     },
     "execution_count": 31,
     "metadata": {},
     "output_type": "execute_result"
    }
   ],
   "source": [
    "new_use.head()"
   ]
  },
  {
   "cell_type": "code",
   "execution_count": 32,
   "id": "1ba0ede7-bb54-4e7b-997b-e22e600639e4",
   "metadata": {},
   "outputs": [
    {
     "ename": "TypeError",
     "evalue": "DataFrame.merge() got multiple values for argument 'how'",
     "output_type": "error",
     "traceback": [
      "\u001b[1;31m---------------------------------------------------------------------------\u001b[0m",
      "\u001b[1;31mTypeError\u001b[0m                                 Traceback (most recent call last)",
      "Cell \u001b[1;32mIn[32], line 1\u001b[0m\n\u001b[1;32m----> 1\u001b[0m new_df \u001b[38;5;241m=\u001b[39m new_cnc\u001b[38;5;241m.\u001b[39mmerge(\u001b[38;5;124m'\u001b[39m\u001b[38;5;124mnew_use\u001b[39m\u001b[38;5;124m'\u001b[39m, \u001b[38;5;124m'\u001b[39m\u001b[38;5;124mnew_sched\u001b[39m\u001b[38;5;124m'\u001b[39m, \u001b[38;5;124m'\u001b[39m\u001b[38;5;124mnew_fail\u001b[39m\u001b[38;5;124m'\u001b[39m, how \u001b[38;5;241m=\u001b[39m \u001b[38;5;124m'\u001b[39m\u001b[38;5;124mright\u001b[39m\u001b[38;5;124m'\u001b[39m)\n",
      "\u001b[1;31mTypeError\u001b[0m: DataFrame.merge() got multiple values for argument 'how'"
     ]
    }
   ],
   "source": [
    "new_df = new_cnc.merge('new_use', 'new_sched', 'new_fail', how = 'right')"
   ]
  },
  {
   "cell_type": "code",
   "execution_count": 33,
   "id": "adf274a2-5a7d-4d65-82c6-0024c4114842",
   "metadata": {},
   "outputs": [],
   "source": [
    "merged_df = new_cnc.merge(new_fail, on='Machine_ID', how='left')  # Merge df1 with df2\n",
    "merged_df = merged_df.merge(new_sched, on='Machine_ID', how='left')  # Merge with df3\n",
    "merged_df = merged_df.merge(new_use, on='Machine_ID', how='left')"
   ]
  },
  {
   "cell_type": "code",
   "execution_count": 35,
   "id": "442affca-8d51-44fc-92a9-2126229a5a09",
   "metadata": {},
   "outputs": [
    {
     "data": {
      "text/html": [
       "<div>\n",
       "<style scoped>\n",
       "    .dataframe tbody tr th:only-of-type {\n",
       "        vertical-align: middle;\n",
       "    }\n",
       "\n",
       "    .dataframe tbody tr th {\n",
       "        vertical-align: top;\n",
       "    }\n",
       "\n",
       "    .dataframe thead th {\n",
       "        text-align: right;\n",
       "    }\n",
       "</style>\n",
       "<table border=\"1\" class=\"dataframe\">\n",
       "  <thead>\n",
       "    <tr style=\"text-align: right;\">\n",
       "      <th></th>\n",
       "      <th>Machine_ID</th>\n",
       "      <th>Spindle_Speed_RPM</th>\n",
       "      <th>Vibration_Level (mm/s)</th>\n",
       "      <th>Temperature (Â°C)</th>\n",
       "      <th>Operation_Hours</th>\n",
       "      <th>Machine_Status</th>\n",
       "      <th>Predicted_Failure</th>\n",
       "      <th>Failure_Type</th>\n",
       "      <th>Downtime_Hours</th>\n",
       "      <th>Repair_Time (hours)</th>\n",
       "      <th>Maintenance_Type</th>\n",
       "      <th>Parts_Produced</th>\n",
       "      <th>Production_Quality</th>\n",
       "      <th>Rejection_Rate (%)</th>\n",
       "    </tr>\n",
       "  </thead>\n",
       "  <tbody>\n",
       "    <tr>\n",
       "      <th>0</th>\n",
       "      <td>CNC006</td>\n",
       "      <td>4300</td>\n",
       "      <td>2.3</td>\n",
       "      <td>79</td>\n",
       "      <td>10</td>\n",
       "      <td>Running</td>\n",
       "      <td>No</td>\n",
       "      <td>Motor Failure</td>\n",
       "      <td>6</td>\n",
       "      <td>4</td>\n",
       "      <td>Routine Inspection</td>\n",
       "      <td>152</td>\n",
       "      <td>High</td>\n",
       "      <td>1.2</td>\n",
       "    </tr>\n",
       "    <tr>\n",
       "      <th>1</th>\n",
       "      <td>CNC007</td>\n",
       "      <td>3700</td>\n",
       "      <td>2.0</td>\n",
       "      <td>84</td>\n",
       "      <td>9</td>\n",
       "      <td>Running</td>\n",
       "      <td>Yes</td>\n",
       "      <td>Overheating</td>\n",
       "      <td>4</td>\n",
       "      <td>3</td>\n",
       "      <td>Vibration Control</td>\n",
       "      <td>138</td>\n",
       "      <td>Medium</td>\n",
       "      <td>2.9</td>\n",
       "    </tr>\n",
       "    <tr>\n",
       "      <th>2</th>\n",
       "      <td>CNC008</td>\n",
       "      <td>4400</td>\n",
       "      <td>2.4</td>\n",
       "      <td>82</td>\n",
       "      <td>8</td>\n",
       "      <td>Running</td>\n",
       "      <td>No</td>\n",
       "      <td>Vibration Issue</td>\n",
       "      <td>5</td>\n",
       "      <td>2</td>\n",
       "      <td>Temperature Check</td>\n",
       "      <td>165</td>\n",
       "      <td>High</td>\n",
       "      <td>1.7</td>\n",
       "    </tr>\n",
       "    <tr>\n",
       "      <th>3</th>\n",
       "      <td>CNC009</td>\n",
       "      <td>4000</td>\n",
       "      <td>3.0</td>\n",
       "      <td>88</td>\n",
       "      <td>12</td>\n",
       "      <td>Running</td>\n",
       "      <td>Yes</td>\n",
       "      <td>Electrical Failure</td>\n",
       "      <td>7</td>\n",
       "      <td>5</td>\n",
       "      <td>Electrical System</td>\n",
       "      <td>142</td>\n",
       "      <td>Low</td>\n",
       "      <td>4.2</td>\n",
       "    </tr>\n",
       "    <tr>\n",
       "      <th>4</th>\n",
       "      <td>CNC010</td>\n",
       "      <td>4700</td>\n",
       "      <td>3.2</td>\n",
       "      <td>91</td>\n",
       "      <td>11</td>\n",
       "      <td>Running</td>\n",
       "      <td>Yes</td>\n",
       "      <td>Spindle Breakdown</td>\n",
       "      <td>8</td>\n",
       "      <td>6</td>\n",
       "      <td>Spindle Inspection</td>\n",
       "      <td>158</td>\n",
       "      <td>High</td>\n",
       "      <td>1.6</td>\n",
       "    </tr>\n",
       "  </tbody>\n",
       "</table>\n",
       "</div>"
      ],
      "text/plain": [
       "  Machine_ID  Spindle_Speed_RPM  Vibration_Level (mm/s)  Temperature (Â°C)  \\\n",
       "0     CNC006               4300                     2.3                 79   \n",
       "1     CNC007               3700                     2.0                 84   \n",
       "2     CNC008               4400                     2.4                 82   \n",
       "3     CNC009               4000                     3.0                 88   \n",
       "4     CNC010               4700                     3.2                 91   \n",
       "\n",
       "   Operation_Hours Machine_Status Predicted_Failure        Failure_Type  \\\n",
       "0               10        Running                No       Motor Failure   \n",
       "1                9        Running               Yes         Overheating   \n",
       "2                8        Running                No     Vibration Issue   \n",
       "3               12        Running               Yes  Electrical Failure   \n",
       "4               11        Running               Yes   Spindle Breakdown   \n",
       "\n",
       "   Downtime_Hours  Repair_Time (hours)    Maintenance_Type  Parts_Produced  \\\n",
       "0               6                    4  Routine Inspection             152   \n",
       "1               4                    3   Vibration Control             138   \n",
       "2               5                    2   Temperature Check             165   \n",
       "3               7                    5   Electrical System             142   \n",
       "4               8                    6  Spindle Inspection             158   \n",
       "\n",
       "  Production_Quality  Rejection_Rate (%)  \n",
       "0               High                 1.2  \n",
       "1             Medium                 2.9  \n",
       "2               High                 1.7  \n",
       "3                Low                 4.2  \n",
       "4               High                 1.6  "
      ]
     },
     "execution_count": 35,
     "metadata": {},
     "output_type": "execute_result"
    }
   ],
   "source": [
    "merged_df.head()"
   ]
  },
  {
   "cell_type": "code",
   "execution_count": 36,
   "id": "d57a43a8-f5a8-4d9c-be30-a8e35dcb178c",
   "metadata": {},
   "outputs": [],
   "source": [
    "from sklearn.preprocessing import LabelEncoder"
   ]
  },
  {
   "cell_type": "code",
   "execution_count": 37,
   "id": "02202280-8d80-4d45-9ff1-77c55bc0ee89",
   "metadata": {},
   "outputs": [
    {
     "name": "stdout",
     "output_type": "stream",
     "text": [
      "    Machine_ID  Spindle_Speed_RPM  Vibration_Level (mm/s)  Temperature (Â°C)  \\\n",
      "0            0               4300                     2.3                 79   \n",
      "1            1               3700                     2.0                 84   \n",
      "2            2               4400                     2.4                 82   \n",
      "3            3               4000                     3.0                 88   \n",
      "4            4               4700                     3.2                 91   \n",
      "5            5               4500                     2.2                 80   \n",
      "6            6               3650                     1.9                 83   \n",
      "7            7               4250                     2.6                 84   \n",
      "8            8               4050                     2.8                 89   \n",
      "9            9               4550                     3.3                 93   \n",
      "10          10               4450                     2.1                 77   \n",
      "11          11               3750                     1.7                 86   \n",
      "12          12               4350                     2.5                 83   \n",
      "13          13               4150                     3.0                 87   \n",
      "14          14               4650                     3.2                 89   \n",
      "15          15               4550                     2.3                 81   \n",
      "16          16               3800                     2.0                 84   \n",
      "17          17               4250                     2.7                 82   \n",
      "18          18               4100                     3.1                 88   \n",
      "19          19               4600                     3.4                 90   \n",
      "20          20               4500                     2.4                 79   \n",
      "21          21               3650                     1.8                 85   \n",
      "22          22               4400                     2.6                 80   \n",
      "23          23               4200                     3.1                 87   \n",
      "24          24               4700                     3.3                 89   \n",
      "25          25               4350                     2.2                 78   \n",
      "26          26               3700                     1.9                 83   \n",
      "27          27               4450                     2.8                 82   \n",
      "28          28               4050                     3.0                 88   \n",
      "29          29               4750                     3.2                 91   \n",
      "30          30               4500                     2.1                 79   \n",
      "31          31               3600                     1.8                 85   \n",
      "32          32               4400                     2.5                 82   \n",
      "33          33               4150                     2.9                 89   \n",
      "34          34               4650                     3.1                 92   \n",
      "\n",
      "    Operation_Hours  Machine_Status  Predicted_Failure  Failure_Type  \\\n",
      "0                10               0                  0             1   \n",
      "1                 9               0                  1             2   \n",
      "2                 8               0                  0             4   \n",
      "3                12               0                  1             0   \n",
      "4                11               0                  1             3   \n",
      "5                10               0                  0             1   \n",
      "6                 9               0                  1             2   \n",
      "7                 8               0                  0             4   \n",
      "8                12               0                  1             0   \n",
      "9                11               0                  1             3   \n",
      "10               10               0                  0             1   \n",
      "11                9               0                  1             2   \n",
      "12                8               0                  0             4   \n",
      "13               12               0                  1             0   \n",
      "14               11               0                  1             3   \n",
      "15               10               0                  0             1   \n",
      "16                9               0                  1             2   \n",
      "17                8               0                  0             4   \n",
      "18               12               0                  1             0   \n",
      "19               11               0                  1             3   \n",
      "20               10               0                  0             1   \n",
      "21                9               0                  1             2   \n",
      "22                8               0                  0             4   \n",
      "23               12               0                  1             0   \n",
      "24               11               0                  1             3   \n",
      "25               10               0                  0             1   \n",
      "26                9               0                  1             2   \n",
      "27                8               0                  0             4   \n",
      "28               12               0                  1             0   \n",
      "29               11               0                  1             3   \n",
      "30               10               0                  0             1   \n",
      "31                9               0                  1             2   \n",
      "32                8               0                  0             4   \n",
      "33               12               0                  1             0   \n",
      "34               11               0                  1             3   \n",
      "\n",
      "    Downtime_Hours  Repair_Time (hours)  Maintenance_Type  Parts_Produced  \\\n",
      "0                6                    4                 1             152   \n",
      "1                4                    3                 4             138   \n",
      "2                5                    2                 3             165   \n",
      "3                7                    5                 0             142   \n",
      "4                8                    6                 2             158   \n",
      "5                6                    4                 1             149   \n",
      "6                4                    3                 4             135   \n",
      "7                5                    2                 3             162   \n",
      "8                7                    5                 0             144   \n",
      "9                8                    6                 2             157   \n",
      "10               6                    4                 1             150   \n",
      "11               4                    3                 4             137   \n",
      "12               5                    2                 3             161   \n",
      "13               7                    5                 0             143   \n",
      "14               8                    6                 2             159   \n",
      "15               6                    4                 1             151   \n",
      "16               4                    3                 4             139   \n",
      "17               5                    2                 3             163   \n",
      "18               7                    5                 0             141   \n",
      "19               8                    6                 2             156   \n",
      "20               6                    4                 1             153   \n",
      "21               4                    3                 4             136   \n",
      "22               5                    2                 3             164   \n",
      "23               7                    5                 0             140   \n",
      "24               8                    6                 2             154   \n",
      "25               6                    4                 1             148   \n",
      "26               4                    3                 4             133   \n",
      "27               5                    2                 3             166   \n",
      "28               7                    5                 0             139   \n",
      "29               8                    6                 2             155   \n",
      "30               6                    4                 1             151   \n",
      "31               4                    3                 4             134   \n",
      "32               5                    2                 3             167   \n",
      "33               7                    5                 0             138   \n",
      "34               8                    6                 2             153   \n",
      "\n",
      "    Production_Quality  Rejection_Rate (%)  \n",
      "0                    0                 1.2  \n",
      "1                    2                 2.9  \n",
      "2                    0                 1.7  \n",
      "3                    1                 4.2  \n",
      "4                    0                 1.6  \n",
      "5                    0                 1.4  \n",
      "6                    2                 3.1  \n",
      "7                    0                 1.8  \n",
      "8                    1                 4.3  \n",
      "9                    0                 1.5  \n",
      "10                   0                 1.3  \n",
      "11                   2                 3.0  \n",
      "12                   0                 1.6  \n",
      "13                   1                 4.1  \n",
      "14                   0                 1.4  \n",
      "15                   0                 1.2  \n",
      "16                   2                 3.2  \n",
      "17                   0                 1.7  \n",
      "18                   1                 4.4  \n",
      "19                   0                 1.5  \n",
      "20                   0                 1.4  \n",
      "21                   2                 3.0  \n",
      "22                   0                 1.8  \n",
      "23                   1                 4.3  \n",
      "24                   0                 1.6  \n",
      "25                   0                 1.3  \n",
      "26                   2                 3.1  \n",
      "27                   0                 1.9  \n",
      "28                   1                 4.2  \n",
      "29                   0                 1.7  \n",
      "30                   0                 1.4  \n",
      "31                   2                 3.3  \n",
      "32                   0                 1.6  \n",
      "33                   1                 4.5  \n",
      "34                   0                 1.5  \n"
     ]
    }
   ],
   "source": [
    "# Initialize the LabelEncoder\n",
    "label_encoder = LabelEncoder()\n",
    "\n",
    "# List of categorical columns\n",
    "categorical_columns = ['Machine_ID', 'Machine_Status', 'Predicted_Failure', 'Failure_Type', 'Maintenance_Type', 'Production_Quality']\n",
    "\n",
    "# Apply label encoding to each column\n",
    "for col in categorical_columns:\n",
    "    merged_df[col] = label_encoder.fit_transform(merged_df[col])\n",
    "\n",
    "print(merged_df)"
   ]
  },
  {
   "cell_type": "code",
   "execution_count": 38,
   "id": "4d16b4a0-d9e4-426b-81e3-93722d227dbc",
   "metadata": {},
   "outputs": [
    {
     "data": {
      "text/html": [
       "<div>\n",
       "<style scoped>\n",
       "    .dataframe tbody tr th:only-of-type {\n",
       "        vertical-align: middle;\n",
       "    }\n",
       "\n",
       "    .dataframe tbody tr th {\n",
       "        vertical-align: top;\n",
       "    }\n",
       "\n",
       "    .dataframe thead th {\n",
       "        text-align: right;\n",
       "    }\n",
       "</style>\n",
       "<table border=\"1\" class=\"dataframe\">\n",
       "  <thead>\n",
       "    <tr style=\"text-align: right;\">\n",
       "      <th></th>\n",
       "      <th>Machine_ID</th>\n",
       "      <th>Spindle_Speed_RPM</th>\n",
       "      <th>Vibration_Level (mm/s)</th>\n",
       "      <th>Temperature (Â°C)</th>\n",
       "      <th>Operation_Hours</th>\n",
       "      <th>Machine_Status</th>\n",
       "      <th>Predicted_Failure</th>\n",
       "      <th>Failure_Type</th>\n",
       "      <th>Downtime_Hours</th>\n",
       "      <th>Repair_Time (hours)</th>\n",
       "      <th>Maintenance_Type</th>\n",
       "      <th>Parts_Produced</th>\n",
       "      <th>Production_Quality</th>\n",
       "      <th>Rejection_Rate (%)</th>\n",
       "    </tr>\n",
       "  </thead>\n",
       "  <tbody>\n",
       "    <tr>\n",
       "      <th>0</th>\n",
       "      <td>0</td>\n",
       "      <td>4300</td>\n",
       "      <td>2.3</td>\n",
       "      <td>79</td>\n",
       "      <td>10</td>\n",
       "      <td>0</td>\n",
       "      <td>0</td>\n",
       "      <td>1</td>\n",
       "      <td>6</td>\n",
       "      <td>4</td>\n",
       "      <td>1</td>\n",
       "      <td>152</td>\n",
       "      <td>0</td>\n",
       "      <td>1.2</td>\n",
       "    </tr>\n",
       "    <tr>\n",
       "      <th>1</th>\n",
       "      <td>1</td>\n",
       "      <td>3700</td>\n",
       "      <td>2.0</td>\n",
       "      <td>84</td>\n",
       "      <td>9</td>\n",
       "      <td>0</td>\n",
       "      <td>1</td>\n",
       "      <td>2</td>\n",
       "      <td>4</td>\n",
       "      <td>3</td>\n",
       "      <td>4</td>\n",
       "      <td>138</td>\n",
       "      <td>2</td>\n",
       "      <td>2.9</td>\n",
       "    </tr>\n",
       "    <tr>\n",
       "      <th>2</th>\n",
       "      <td>2</td>\n",
       "      <td>4400</td>\n",
       "      <td>2.4</td>\n",
       "      <td>82</td>\n",
       "      <td>8</td>\n",
       "      <td>0</td>\n",
       "      <td>0</td>\n",
       "      <td>4</td>\n",
       "      <td>5</td>\n",
       "      <td>2</td>\n",
       "      <td>3</td>\n",
       "      <td>165</td>\n",
       "      <td>0</td>\n",
       "      <td>1.7</td>\n",
       "    </tr>\n",
       "    <tr>\n",
       "      <th>3</th>\n",
       "      <td>3</td>\n",
       "      <td>4000</td>\n",
       "      <td>3.0</td>\n",
       "      <td>88</td>\n",
       "      <td>12</td>\n",
       "      <td>0</td>\n",
       "      <td>1</td>\n",
       "      <td>0</td>\n",
       "      <td>7</td>\n",
       "      <td>5</td>\n",
       "      <td>0</td>\n",
       "      <td>142</td>\n",
       "      <td>1</td>\n",
       "      <td>4.2</td>\n",
       "    </tr>\n",
       "    <tr>\n",
       "      <th>4</th>\n",
       "      <td>4</td>\n",
       "      <td>4700</td>\n",
       "      <td>3.2</td>\n",
       "      <td>91</td>\n",
       "      <td>11</td>\n",
       "      <td>0</td>\n",
       "      <td>1</td>\n",
       "      <td>3</td>\n",
       "      <td>8</td>\n",
       "      <td>6</td>\n",
       "      <td>2</td>\n",
       "      <td>158</td>\n",
       "      <td>0</td>\n",
       "      <td>1.6</td>\n",
       "    </tr>\n",
       "  </tbody>\n",
       "</table>\n",
       "</div>"
      ],
      "text/plain": [
       "   Machine_ID  Spindle_Speed_RPM  Vibration_Level (mm/s)  Temperature (Â°C)  \\\n",
       "0           0               4300                     2.3                 79   \n",
       "1           1               3700                     2.0                 84   \n",
       "2           2               4400                     2.4                 82   \n",
       "3           3               4000                     3.0                 88   \n",
       "4           4               4700                     3.2                 91   \n",
       "\n",
       "   Operation_Hours  Machine_Status  Predicted_Failure  Failure_Type  \\\n",
       "0               10               0                  0             1   \n",
       "1                9               0                  1             2   \n",
       "2                8               0                  0             4   \n",
       "3               12               0                  1             0   \n",
       "4               11               0                  1             3   \n",
       "\n",
       "   Downtime_Hours  Repair_Time (hours)  Maintenance_Type  Parts_Produced  \\\n",
       "0               6                    4                 1             152   \n",
       "1               4                    3                 4             138   \n",
       "2               5                    2                 3             165   \n",
       "3               7                    5                 0             142   \n",
       "4               8                    6                 2             158   \n",
       "\n",
       "   Production_Quality  Rejection_Rate (%)  \n",
       "0                   0                 1.2  \n",
       "1                   2                 2.9  \n",
       "2                   0                 1.7  \n",
       "3                   1                 4.2  \n",
       "4                   0                 1.6  "
      ]
     },
     "execution_count": 38,
     "metadata": {},
     "output_type": "execute_result"
    }
   ],
   "source": [
    "merged_df.head()"
   ]
  },
  {
   "cell_type": "code",
   "execution_count": 39,
   "id": "cc05cf92-0752-4820-a83b-9abab4b98ffd",
   "metadata": {},
   "outputs": [],
   "source": [
    "from sklearn.model_selection import train_test_split"
   ]
  },
  {
   "cell_type": "code",
   "execution_count": 40,
   "id": "518d5777-ffb8-455d-bf77-a7c1b096e36c",
   "metadata": {},
   "outputs": [],
   "source": [
    "X = merged_df.drop('Predicted_Failure', axis=1)  # Features (all columns except the target)\n",
    "y = merged_df['Predicted_Failure']  # Target column (Predicted_Failure)"
   ]
  },
  {
   "cell_type": "code",
   "execution_count": 41,
   "id": "05202992-fb3a-4a28-9ebc-4d8c621e196a",
   "metadata": {},
   "outputs": [],
   "source": [
    "# Split the data into train and test sets\n",
    "X_train, X_test, y_train, y_test = train_test_split(X, y, test_size=0.2, random_state=42)"
   ]
  },
  {
   "cell_type": "code",
   "execution_count": 42,
   "id": "847ea920-8b4b-468f-9456-dc373bf52c6f",
   "metadata": {},
   "outputs": [],
   "source": [
    "from sklearn.ensemble import RandomForestClassifier\n",
    "from sklearn.metrics import accuracy_score, classification_report, confusion_matrix"
   ]
  },
  {
   "cell_type": "code",
   "execution_count": 43,
   "id": "a9618011-c9bf-48c1-ba1e-78ee155948a1",
   "metadata": {},
   "outputs": [],
   "source": [
    "# Initialize the RandomForestClassifier\n",
    "rf_model = RandomForestClassifier(n_estimators=100, random_state=42)\n",
    "\n",
    "# Train the model using the training data\n",
    "rf_model.fit(X_train, y_train)\n",
    "\n",
    "# Make predictions on the test set\n",
    "y_pred = rf_model.predict(X_test)"
   ]
  },
  {
   "cell_type": "code",
   "execution_count": 44,
   "id": "05807bd6-db91-4957-a875-e8ed080c5b13",
   "metadata": {},
   "outputs": [
    {
     "name": "stdout",
     "output_type": "stream",
     "text": [
      "Accuracy: 1.0000\n"
     ]
    }
   ],
   "source": [
    "# Evaluate the model\n",
    "accuracy = accuracy_score(y_test, y_pred)\n",
    "print(f\"Accuracy: {accuracy:.4f}\")"
   ]
  },
  {
   "cell_type": "code",
   "execution_count": 45,
   "id": "45c63668-db3f-4222-883e-fe66e1d2ce9f",
   "metadata": {},
   "outputs": [
    {
     "name": "stdout",
     "output_type": "stream",
     "text": [
      "Classification Report:\n",
      "              precision    recall  f1-score   support\n",
      "\n",
      "           0       1.00      1.00      1.00         1\n",
      "           1       1.00      1.00      1.00         6\n",
      "\n",
      "    accuracy                           1.00         7\n",
      "   macro avg       1.00      1.00      1.00         7\n",
      "weighted avg       1.00      1.00      1.00         7\n",
      "\n",
      "Confusion Matrix:\n",
      "[[1 0]\n",
      " [0 6]]\n"
     ]
    }
   ],
   "source": [
    "# Print detailed classification report\n",
    "print(\"Classification Report:\")\n",
    "print(classification_report(y_test, y_pred))\n",
    "\n",
    "# Print confusion matrix\n",
    "print(\"Confusion Matrix:\")\n",
    "print(confusion_matrix(y_test, y_pred))"
   ]
  },
  {
   "cell_type": "code",
   "execution_count": 47,
   "id": "5d9f0516-a5f1-4151-952f-78bfe27b076d",
   "metadata": {},
   "outputs": [
    {
     "data": {
      "text/plain": [
       "array([1, 1, 1, 1, 0, 1, 1])"
      ]
     },
     "execution_count": 47,
     "metadata": {},
     "output_type": "execute_result"
    }
   ],
   "source": [
    "y_pred"
   ]
  },
  {
   "cell_type": "code",
   "execution_count": 48,
   "id": "209921bb-6e30-46e8-a833-35060431c926",
   "metadata": {},
   "outputs": [],
   "source": [
    "import pickle\n",
    "from sklearn.ensemble import RandomForestClassifier"
   ]
  },
  {
   "cell_type": "code",
   "execution_count": 49,
   "id": "74693acf-9655-495f-95a1-f321df143edd",
   "metadata": {},
   "outputs": [],
   "source": [
    "with open('rf_model.pkl', 'wb') as file:\n",
    "    pickle.dump(rf_model, file)  # 'rf_model' is the trained mode"
   ]
  },
  {
   "cell_type": "code",
   "execution_count": 50,
   "id": "97828128-ab46-4d7e-83ed-b5f4861c97ff",
   "metadata": {},
   "outputs": [],
   "source": [
    "# Load the saved model from the file\n",
    "with open('rf_model.pkl', 'rb') as file:\n",
    "    loaded_rf_model = pickle.load(file)\n",
    "\n",
    "# Now, you can use 'loaded_rf_model' as if it was the original model\n",
    "y_pred_loaded = loaded_rf_model.predict(X_test)"
   ]
  },
  {
   "cell_type": "code",
   "execution_count": 52,
   "id": "1cc4a6e0-728a-4f17-a036-f08cf6f7eedb",
   "metadata": {},
   "outputs": [],
   "source": [
    "from sklearn.model_selection import GridSearchCV"
   ]
  },
  {
   "cell_type": "code",
   "execution_count": 53,
   "id": "f798c8a6-0436-40d8-bd1c-60a5cb25bd17",
   "metadata": {},
   "outputs": [],
   "source": [
    "param_grid = {\n",
    "    'n_estimators': [50, 100, 200],\n",
    "    'max_depth': [None, 10, 20, 30],\n",
    "    'min_samples_split': [2, 5, 10],\n",
    "    'min_samples_leaf': [1, 2, 4]\n",
    "}"
   ]
  },
  {
   "cell_type": "code",
   "execution_count": 54,
   "id": "a5218736-91e6-4068-9f30-2923b63e3642",
   "metadata": {},
   "outputs": [
    {
     "name": "stdout",
     "output_type": "stream",
     "text": [
      "Fitting 5 folds for each of 108 candidates, totalling 540 fits\n",
      "Best Parameters:  {'max_depth': None, 'min_samples_leaf': 1, 'min_samples_split': 2, 'n_estimators': 50}\n"
     ]
    }
   ],
   "source": [
    "grid_search = GridSearchCV(estimator=rf_model, param_grid=param_grid, cv=5, n_jobs=-1, verbose=2)\n",
    "\n",
    "# Perform the grid search\n",
    "grid_search.fit(X_train, y_train)\n",
    "\n",
    "# Get the best parameters\n",
    "print(\"Best Parameters: \", grid_search.best_params_)"
   ]
  },
  {
   "cell_type": "code",
   "execution_count": 56,
   "id": "1b592a48-8746-4a1d-90eb-b5515d79453f",
   "metadata": {},
   "outputs": [],
   "source": [
    "best_rf_model = grid_search.best_estimator_\n",
    "\n",
    "# Evaluate the best model\n",
    "y_pred_best = best_rf_model.predict(X_test)\n",
    "accuracy_best = accuracy_score(y_test, y_pred_best)"
   ]
  },
  {
   "cell_type": "code",
   "execution_count": 57,
   "id": "89d418bd-c48d-450a-b1f4-f7abff30f62f",
   "metadata": {},
   "outputs": [
    {
     "name": "stdout",
     "output_type": "stream",
     "text": [
      "Best Model Accuracy: 1.0000\n"
     ]
    }
   ],
   "source": [
    "print(f\"Best Model Accuracy: {accuracy_best:.4f}\")"
   ]
  },
  {
   "cell_type": "code",
   "execution_count": 58,
   "id": "32d4d9e2-3ae6-48e1-a1d2-6926f780ab7e",
   "metadata": {},
   "outputs": [
    {
     "name": "stdout",
     "output_type": "stream",
     "text": [
      "Predictions on test data: [1 1 1 1 0 1 1]\n"
     ]
    }
   ],
   "source": [
    "print(\"Predictions on test data:\", y_pred[:10])"
   ]
  },
  {
   "cell_type": "code",
   "execution_count": 59,
   "id": "32a522fd-5dce-44cc-8787-412f3ce309f6",
   "metadata": {},
   "outputs": [
    {
     "name": "stdout",
     "output_type": "stream",
     "text": [
      "    True Label  Predicted Label\n",
      "26           1                1\n",
      "13           1                1\n",
      "24           1                1\n",
      "21           1                1\n",
      "15           0                0\n",
      "29           1                1\n",
      "19           1                1\n"
     ]
    }
   ],
   "source": [
    "# Compare the predicted and true labels\n",
    "comparison = pd.DataFrame({\n",
    "    'True Label': y_test,\n",
    "    'Predicted Label': y_pred\n",
    "})\n",
    "\n",
    "print(comparison.head(10))  # Show the first 10 comparisons\n"
   ]
  },
  {
   "cell_type": "code",
   "execution_count": 60,
   "id": "b96d5341-cda4-478e-98b9-1c1595c32901",
   "metadata": {},
   "outputs": [],
   "source": [
    "import seaborn as sns\n",
    "import matplotlib.pyplot as plt"
   ]
  },
  {
   "cell_type": "code",
   "execution_count": 63,
   "id": "e97c82c7-6ebd-42d9-b01e-8bf5ecef829f",
   "metadata": {},
   "outputs": [],
   "source": [
    "conf_matrix = confusion_matrix(y_test, y_pred)"
   ]
  },
  {
   "cell_type": "code",
   "execution_count": 68,
   "id": "34c52299-27e1-4003-87d6-5c29beee4bde",
   "metadata": {},
   "outputs": [
    {
     "data": {
      "image/png": "[encoded data removed]",
      "text/plain": [
       "<Figure size 640x480 with 2 Axes>"
      ]
     },
     "metadata": {},
     "output_type": "display_data"
    }
   ],
   "source": [
    "sns.heatmap(conf_matrix, annot=True, fmt='d', cmap='Blues', xticklabels=['Non-Failure', 'Failure'], yticklabels=['Non-Failure', 'Failure'])\n",
    "\n",
    "plt.xlabel('Predicted')\n",
    "plt.ylabel('True')\n",
    "plt.title('Confusion Matrix')\n",
    "plt.show()"
   ]
  },
  {
   "cell_type": "markdown",
   "id": "c2f12ffd-1a07-4b3d-988d-ee863d03b035",
   "metadata": {},
   "source": [
    "# Now we will make SVM model for the same.\n"
   ]
  },
  {
   "cell_type": "code",
   "execution_count": 74,
   "id": "e656bf90-1a18-4799-8b8a-27b70c1f3da5",
   "metadata": {},
   "outputs": [],
   "source": [
    "from sklearn.svm import SVC\n",
    "from sklearn.metrics import accuracy_score, classification_report, confusion_matrix"
   ]
  },
  {
   "cell_type": "code",
   "execution_count": 75,
   "id": "4c279ef8-cb3e-4b77-b04a-fb1e936e40da",
   "metadata": {},
   "outputs": [],
   "source": [
    "svm_model = SVC(kernel='linear', random_state=42)  \n",
    "svm_model.fit(X_train, y_train)\n",
    "y_pred_svm = svm_model.predict(X_test)"
   ]
  },
  {
   "cell_type": "code",
   "execution_count": 78,
   "id": "d1e55a00-7ea7-4ba6-bddc-4c7c802f7f1f",
   "metadata": {},
   "outputs": [
    {
     "name": "stdout",
     "output_type": "stream",
     "text": [
      "Accuracy of SVM Model: 1.0000\n"
     ]
    }
   ],
   "source": [
    "# Accuracy\n",
    "accuracy_svm = accuracy_score(y_test, y_pred_svm)\n",
    "print(f\"Accuracy of SVM Model: {accuracy_svm:.4f}\")"
   ]
  },
  {
   "cell_type": "code",
   "execution_count": 79,
   "id": "5e65ed11-2de2-4e08-834c-27abb3582cde",
   "metadata": {},
   "outputs": [
    {
     "name": "stdout",
     "output_type": "stream",
     "text": [
      "Classification Report for SVM:\n",
      "              precision    recall  f1-score   support\n",
      "\n",
      "           0       1.00      1.00      1.00         1\n",
      "           1       1.00      1.00      1.00         6\n",
      "\n",
      "    accuracy                           1.00         7\n",
      "   macro avg       1.00      1.00      1.00         7\n",
      "weighted avg       1.00      1.00      1.00         7\n",
      "\n"
     ]
    }
   ],
   "source": [
    "# Classification Report\n",
    "print(\"Classification Report for SVM:\")\n",
    "print(classification_report(y_test, y_pred_svm))"
   ]
  },
  {
   "cell_type": "code",
   "execution_count": 80,
   "id": "39b82881-4812-499d-92b2-c78f46154387",
   "metadata": {},
   "outputs": [
    {
     "name": "stdout",
     "output_type": "stream",
     "text": [
      "Confusion Matrix for SVM:\n",
      "[[1 0]\n",
      " [0 6]]\n"
     ]
    }
   ],
   "source": [
    "# Confusion Matrix\n",
    "print(\"Confusion Matrix for SVM:\")\n",
    "print(confusion_matrix(y_test, y_pred_svm))"
   ]
  },
  {
   "cell_type": "code",
   "execution_count": 81,
   "id": "631225a2-a895-4a61-a4b3-9a26d44e45cb",
   "metadata": {},
   "outputs": [],
   "source": [
    "#Hypertunning the model..\n",
    "\n",
    "svm_model_tuned = SVC(kernel='rbf', C=1.0, gamma='scale', random_state=42)\n",
    "svm_model_tuned.fit(X_train, y_train)\n",
    "y_pred_svm_tuned = svm_model_tuned.predict(X_test)"
   ]
  },
  {
   "cell_type": "code",
   "execution_count": 82,
   "id": "4bd17012-6443-4886-9d7a-6041cf744db7",
   "metadata": {},
   "outputs": [
    {
     "name": "stdout",
     "output_type": "stream",
     "text": [
      "Accuracy of Tuned SVM Model: 0.8571\n"
     ]
    }
   ],
   "source": [
    "#accuracy \n",
    "accuracy_svm_tuned = accuracy_score(y_test, y_pred_svm_tuned)\n",
    "print(f\"Accuracy of Tuned SVM Model: {accuracy_svm_tuned:.4f}\")"
   ]
  },
  {
   "cell_type": "code",
   "execution_count": 83,
   "id": "ff062ed8-31c0-4c61-866a-3889d43aec12",
   "metadata": {},
   "outputs": [
    {
     "name": "stdout",
     "output_type": "stream",
     "text": [
      "Classification Report for Tuned SVM:\n",
      "              precision    recall  f1-score   support\n",
      "\n",
      "           0       0.00      0.00      0.00         1\n",
      "           1       0.86      1.00      0.92         6\n",
      "\n",
      "    accuracy                           0.86         7\n",
      "   macro avg       0.43      0.50      0.46         7\n",
      "weighted avg       0.73      0.86      0.79         7\n",
      "\n"
     ]
    },
    {
     "name": "stderr",
     "output_type": "stream",
     "text": [
      "C:\\Users\\Samson Noronha\\anaconda3\\Lib\\site-packages\\sklearn\\metrics\\_classification.py:1344: UndefinedMetricWarning: Precision and F-score are ill-defined and being set to 0.0 in labels with no predicted samples. Use `zero_division` parameter to control this behavior.\n",
      "  _warn_prf(average, modifier, msg_start, len(result))\n",
      "C:\\Users\\Samson Noronha\\anaconda3\\Lib\\site-packages\\sklearn\\metrics\\_classification.py:1344: UndefinedMetricWarning: Precision and F-score are ill-defined and being set to 0.0 in labels with no predicted samples. Use `zero_division` parameter to control this behavior.\n",
      "  _warn_prf(average, modifier, msg_start, len(result))\n",
      "C:\\Users\\Samson Noronha\\anaconda3\\Lib\\site-packages\\sklearn\\metrics\\_classification.py:1344: UndefinedMetricWarning: Precision and F-score are ill-defined and being set to 0.0 in labels with no predicted samples. Use `zero_division` parameter to control this behavior.\n",
      "  _warn_prf(average, modifier, msg_start, len(result))\n"
     ]
    }
   ],
   "source": [
    "# Classification report\n",
    "print(\"Classification Report for Tuned SVM:\")\n",
    "print(classification_report(y_test, y_pred_svm_tuned))"
   ]
  },
  {
   "cell_type": "code",
   "execution_count": 84,
   "id": "58a03d67-11b6-4340-841a-039280288b90",
   "metadata": {},
   "outputs": [
    {
     "name": "stdout",
     "output_type": "stream",
     "text": [
      "Confusion Matrix for Tuned SVM:\n",
      "[[0 1]\n",
      " [0 6]]\n"
     ]
    }
   ],
   "source": [
    "# Confusion Matrix\n",
    "print(\"Confusion Matrix for Tuned SVM:\")\n",
    "print(confusion_matrix(y_test, y_pred_svm_tuned))"
   ]
  },
  {
   "cell_type": "code",
   "execution_count": null,
   "id": "238e71be-4390-4cfa-8105-9171a66971d6",
   "metadata": {},
   "outputs": [],
   "source": []
  }
 ],
 "metadata": {
  "kernelspec": {
   "display_name": "Python 3 (ipykernel)",
   "language": "python",
   "name": "python3"
  },
  "language_info": {
   "codemirror_mode": {
    "name": "ipython",
    "version": 3
   },
   "file_extension": ".py",
   "mimetype": "text/x-python",
   "name": "python",
   "nbconvert_exporter": "python",
   "pygments_lexer": "ipython3",
   "version": "3.11.7"
  }
 },
 "nbformat": 4,
 "nbformat_minor": 5
}
